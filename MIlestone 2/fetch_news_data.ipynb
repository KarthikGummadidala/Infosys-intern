{
  "nbformat": 4,
  "nbformat_minor": 0,
  "metadata": {
    "colab": {
      "provenance": []
    },
    "kernelspec": {
      "name": "python3",
      "display_name": "Python 3"
    },
    "language_info": {
      "name": "python"
    }
  },
  "cells": [
    {
      "cell_type": "code",
      "execution_count": 25,
      "metadata": {
        "id": "LCKhtIJBYVSu"
      },
      "outputs": [],
      "source": [
        "import requests\n",
        "import pandas as pd\n",
        "from datetime import datetime\n",
        "import openai"
      ]
    },
    {
      "cell_type": "code",
      "source": [
        "# Function to fetch news data from the API\n",
        "def fetch_news(api_url, query_params):\n",
        "    try:\n",
        "        response = requests.get(api_url, params=query_params)\n",
        "        response.raise_for_status()\n",
        "        return response.json()\n",
        "    except Exception as e:\n",
        "        print(f\"Error fetching news: {e}\")\n",
        "        return None\n",
        "\n",
        "# Fetching news from the last 7 days with a limit of 10 results\n",
        "news_api_url = \"https://newsapi.org/v2/everything\"\n",
        "query_params = {\n",
        "    \"q\": \"export and import the clothes\",\n",
        "    \"from\": (datetime.now() - pd.Timedelta(days=30)).strftime('%Y-%m-%d'),\n",
        "    \"sortBy\": \"relevance\",\n",
        "    \"apiKey\": \"6d1fda2210ea41c69edf6a9ce33f4b13\"\n",
        "}\n",
        "\n",
        "news_data = fetch_news(news_api_url, query_params)\n",
        "\n",
        "if news_data and news_data['totalResults'] > 0:\n",
        "    print(f\"News data fetched successfully!\")\n",
        "else:\n",
        "    print(\"No articles found. Try adjusting the query.\")"
      ],
      "metadata": {
        "colab": {
          "base_uri": "https://localhost:8080/"
        },
        "id": "y-tGanEOYeGa",
        "outputId": "19f7f163-b13e-4402-8dd4-9eecf9f6a4c6"
      },
      "execution_count": 26,
      "outputs": [
        {
          "output_type": "stream",
          "name": "stdout",
          "text": [
            "News data fetched successfully!\n"
          ]
        }
      ]
    },
    {
      "cell_type": "code",
      "source": [
        "news_data"
      ],
      "metadata": {
        "colab": {
          "base_uri": "https://localhost:8080/"
        },
        "id": "GWzDKdeUY66a",
        "outputId": "84c8ea4b-0f97-46de-d89c-871f0ae64e7e"
      },
      "execution_count": 27,
      "outputs": [
        {
          "output_type": "execute_result",
          "data": {
            "text/plain": [
              "{'status': 'ok',\n",
              " 'totalResults': 10,\n",
              " 'articles': [{'source': {'id': None, 'name': 'Snopes.com'},\n",
              "   'author': 'Aleksandra Wrona',\n",
              "   'title': 'The Truth Behind Allegations Louis Vuitton Burns Unsold Merchandise',\n",
              "   'description': \"Reports allege the company burns unsold items, including its handbags, to preserve the brand's exclusivity and prevent discounts.\",\n",
              "   'url': 'https://www.snopes.com//news/2024/12/23/louis-vuitton-burns-unsold-bags/',\n",
              "   'urlToImage': 'https://mediaproxy.snopes.com/width/1200/https://media.snopes.com/2024/12/lv_handbag_1.jpg',\n",
              "   'publishedAt': '2024-12-24T03:00:00Z',\n",
              "   'content': \"Why is there not a rating on this post? There's not enough verified evidence for us to definitively confirm or debunk this rumor. Contact us if you have credible information to share. We'll update th… [+8240 chars]\"},\n",
              "  {'source': {'id': None, 'name': 'Snopes.com'},\n",
              "   'author': 'Aleksandra Wrona',\n",
              "   'title': 'No Evidence Louis Vuitton Burns Unsold Handbags',\n",
              "   'description': 'The company was rumored to destroy its unsold stock at the end of each year to preserve its exclusivity and prevent products from being discounted.',\n",
              "   'url': 'https://www.snopes.com//news/2024/12/20/louis-vuitton-burns-unsold-stock/',\n",
              "   'urlToImage': 'https://mediaproxy.snopes.com/width/1200/https://media.snopes.com/2024/12/lv_handbag.jpg',\n",
              "   'publishedAt': '2024-12-20T03:00:00Z',\n",
              "   'content': \"Why is there not a rating on this post? There's not enough verified evidence for us to definitively confirm or debunk this rumor. Contact us if you have credible information to share. We'll update th… [+8270 chars]\"},\n",
              "  {'source': {'id': None, 'name': 'Yahoo Entertainment'},\n",
              "   'author': 'editorial-team@simplywallst.com (Simply Wall St)',\n",
              "   'title': 'Promising Penny Stocks To Consider In January 2025',\n",
              "   'description': 'As 2024 draws to a close, global markets have experienced a mixed bag of results, with U.S. indices showing moderate gains despite declining consumer...',\n",
              "   'url': 'https://finance.yahoo.com/news/promising-penny-stocks-consider-january-020734883.html',\n",
              "   'urlToImage': 'https://media.zenfs.com/en/simply_wall_st__316/cb577674b7e557d971f138507100a6d5',\n",
              "   'publishedAt': '2025-01-03T02:07:34Z',\n",
              "   'content': 'As 2024 draws to a close, global markets have experienced a mixed bag of results, with U.S. indices showing moderate gains despite declining consumer confidence and manufacturing activity. Amid these… [+4680 chars]'},\n",
              "  {'source': {'id': None, 'name': 'The Punch'},\n",
              "   'author': 'Dennis Naku',\n",
              "   'title': 'Onne Customs command generates N634bn revenue – Official',\n",
              "   'description': 'The Nigerian Customs Service, Area 2 Command, Onne in Rivers State said its officials have seized twelve 40-foot containers of medicine illegally imported into the country with a duty paid value of N20.309bn. This is as the Command said it generated N634bn in…',\n",
              "   'url': 'https://punchng.com/onne-customs-command-generates-n634bn-revenue-official/',\n",
              "   'urlToImage': 'https://cdn.punchng.com/wp-content/uploads/2024/12/01005456/Nigeria-Customs-Service-600x500-1.jpg',\n",
              "   'publishedAt': '2025-01-01T00:04:44Z',\n",
              "   'content': 'The Nigerian Customs Service, Area 2 Command, Onne in Rivers State said its officials have seized twelve 40-foot containers of medicine illegally imported into the country with a duty paid value of N… [+4887 chars]'},\n",
              "  {'source': {'id': None, 'name': 'Globalsecurity.org'},\n",
              "   'author': 'John Pike',\n",
              "   'title': 'YEAR END REVIEW 2024',\n",
              "   'description': '2024 witnessed some path-breaking achievements & breakthroughs as Ministry of Defence (MoD), marched ahead with renewed vigour to make India a strong, secure, self-reliant & prosperous nation, as envisioned by Prime Minister Shri Narendra Modi.',\n",
              "   'url': 'https://www.globalsecurity.org/wmd/library/news/india/2024/india-241226-india-pib01.htm',\n",
              "   'urlToImage': None,\n",
              "   'publishedAt': '2024-12-27T06:13:26Z',\n",
              "   'content': 'India - Press Information Bureau\\r\\nMinistry of Defence\\r\\n Posted On: 26 DEC 2024 5:48PM by PIB Delhi \\r\\n2024 witnessed some path-breaking achievements &amp; breakthroughs as Ministry of Defence (MoD), m… [+121446 chars]'},\n",
              "  {'source': {'id': None, 'name': 'GlobeNewswire'},\n",
              "   'author': 'Introspective Market Research',\n",
              "   'title': 'Heat Pump Market Projected To Reach USD 147.29 Billion by 2032, Growing at a CAGR of 9.7% from 2024 to 2032 | Introspective Market Research',\n",
              "   'description': 'Heat Pump Market size was valued at USD 64.02 billion in 2023 and is projected to reach USD 147.29 billion by 2032, growing at a CAGR of 9.7% from 2024 to 2032. Heat Pump Market size was valued at USD 64.02 billion in 2023 and is projected to reach USD 147.29…',\n",
              "   'url': 'https://www.globenewswire.com/news-release/2024/12/23/3001102/0/en/Heat-Pump-Market-Projected-To-Reach-USD-147-29-Billion-by-2032-Growing-at-a-CAGR-of-9-7-from-2024-to-2032-Introspective-Market-Research.html',\n",
              "   'urlToImage': 'https://ml.globenewswire.com/Resource/Download/94de5d3b-896b-42eb-ac3a-a9b044bfbf39',\n",
              "   'publishedAt': '2024-12-23T11:52:00Z',\n",
              "   'content': 'United Kingdom, Birmingham, Dec. 23, 2024 (GLOBE NEWSWIRE) -- The Heat Pump market is growing due to several factors such as the Increasing Integration of the Internet of Things (IoT) And Other Innov… [+24368 chars]'},\n",
              "  {'source': {'id': None, 'name': 'Freerepublic.com'},\n",
              "   'author': 'YouTube',\n",
              "   'title': 'The Forgotten Foundational Document: The Articles of Association. [15:21]',\n",
              "   'description': 'The Articles of association were passed on October 20, 1774, two hundred fifty years ago. While often overlooked, they are both a critical part of the story, and a window into the colonial mind, that would eventually lead into open rebellion.The Forgotten Fou…',\n",
              "   'url': 'https://freerepublic.com/focus/f-chat/4287116/posts',\n",
              "   'urlToImage': None,\n",
              "   'publishedAt': '2024-12-30T13:52:48Z',\n",
              "   'content': 'Skip to comments.\\r\\nThe Forgotten Foundational Document: The Articles of Association. [15:21]YouTube ^\\r\\n | October 21, 2024\\r\\n | The History Guy: History Deserves to Be Remembered\\r\\nPosted on 12/30/2024… [+34890 chars]'},\n",
              "  {'source': {'id': None, 'name': 'Thefreedictionary.com'},\n",
              "   'author': None,\n",
              "   'title': 'The Song Dynasty',\n",
              "   'description': 'The first government in history to issue paper money, the Song dynasty was the ruling dynasty in China between 960 and 1279. A culturally rich period for the arts, philosophy, and social life, the dynasty also bolstered naval strength and developed revolution…',\n",
              "   'url': 'https://encyclopedia.thefreedictionary.com/Song+Dynasty',\n",
              "   'urlToImage': 'http://img.tfd.com/TFDlogo1200x1200.png',\n",
              "   'publishedAt': '2024-12-24T05:00:00Z',\n",
              "   'content': 'The Song dynasty (Chinese: 宋朝; pinyin: Sòng cháo; 960–1279) was an era of Chinese history that began in 960 and continued until 1279. It succeeded the Five Dynasties and Ten Kingdoms period, coincide… [+78709 chars]'},\n",
              "  {'source': {'id': None, 'name': 'Plos.org'},\n",
              "   'author': 'Md. Tariqul Islam Imran, Chitra Lekha Karmaker, Rubayet Karim, S. M. Misbauddin, A. B. M. Mainul Bari, Asif Raihan',\n",
              "   'title': 'Modeling the supply chain sustainability imperatives in the fashion retail industry: Implications for sustainable development',\n",
              "   'description': 'The resilience of established business strategies has been tested in the wake of recent global supply chain upheavals triggered by events like the COVID-19 pandemic, Russia-Ukraine combat, Hamas-Israel war, and other geopolitical conflicts. Organizations are …',\n",
              "   'url': 'https://journals.plos.org/plosone/article?id=10.1371/journal.pone.0312671',\n",
              "   'urlToImage': 'https://journals.plos.org/plosone/article/figure/image?id=10.1371/journal.pone.0312671.g007&size=inline',\n",
              "   'publishedAt': '2024-12-31T14:00:00Z',\n",
              "   'content': 'Abstract\\r\\nThe resilience of established business strategies has been tested in the wake of recent global supply chain upheavals triggered by events like the COVID-19 pandemic, Russia-Ukraine combat, … [+83647 chars]'},\n",
              "  {'source': {'id': None, 'name': 'Khabarhub.com'},\n",
              "   'author': 'Khabarhub',\n",
              "   'title': 'Smuggling up in absence of uniformed customs evaluation systems between Nepal and India',\n",
              "   'description': 'PARSA: Smuggling has continued to rise in lack of enforcement of uniformed tax systems between Nepal and India. Though the sovereign countries have their separate modus operandi of state governance, the tax system with identical nature was appropriate for pre…',\n",
              "   'url': 'https://english.khabarhub.com/2024/11/418596/',\n",
              "   'urlToImage': 'https://english.khabarhub.com/wp-content/uploads/2024/10/birgunj-naka.jpg',\n",
              "   'publishedAt': '2024-12-11T05:45:40Z',\n",
              "   'content': 'PARSA: Smuggling has continued to rise in lack of enforcement of uniformed tax systems between Nepal and India.\\r\\nThough the sovereign countries have their separate modus operandi of state governance,… [+1488 chars]'}]}"
            ]
          },
          "metadata": {},
          "execution_count": 27
        }
      ]
    },
    {
      "cell_type": "code",
      "source": [
        "import pandas as pd\n",
        "\n",
        "# Function to save news data to CSV\n",
        "def save_news_to_csv(news_data, output_file):\n",
        "    try:\n",
        "        # Extract relevant information from articles\n",
        "        articles = news_data.get(\"articles\", [])\n",
        "        structured_data = []\n",
        "        for article in articles:\n",
        "            structured_data.append({\n",
        "                \"Source\": article['source']['name'],\n",
        "                \"Author\": article.get('author', 'N/A'),\n",
        "                \"Title\": article['title'],\n",
        "                \"Description\": article.get('description', 'N/A'),\n",
        "                \"Content\": article.get('content', 'N/A'),\n",
        "                \"Published At\": article['publishedAt'],\n",
        "                \"URL\": article['url']\n",
        "            })\n",
        "\n",
        "        # Convert to a DataFrame\n",
        "        df = pd.DataFrame(structured_data)\n",
        "\n",
        "        # Save DataFrame to CSV\n",
        "        df.to_csv(output_file, index=False)\n",
        "        print(f\"News data successfully saved to {output_file}\")\n",
        "    except Exception as e:\n",
        "        print(f\"Error saving news data to CSV: {e}\")\n",
        "\n",
        "# Specify output file path\n",
        "output_file = \"news_data.csv\"\n",
        "\n",
        "# Save the fetched news data into the CSV file\n",
        "save_news_to_csv(news_data, output_file)\n"
      ],
      "metadata": {
        "colab": {
          "base_uri": "https://localhost:8080/"
        },
        "id": "WEHKkYFozahP",
        "outputId": "670b9915-981b-46fa-bd41-948adf24766c"
      },
      "execution_count": 28,
      "outputs": [
        {
          "output_type": "stream",
          "name": "stdout",
          "text": [
            "News data successfully saved to news_data.csv\n"
          ]
        }
      ]
    },
    {
      "cell_type": "code",
      "source": [
        "# Load and print the CSV file\n",
        "csv_file_path = '/content/news_data.csv'  # Update the path if needed\n",
        "df = pd.read_csv(csv_file_path)\n",
        "print(df)\n"
      ],
      "metadata": {
        "colab": {
          "base_uri": "https://localhost:8080/"
        },
        "id": "EN90vN_Bzhph",
        "outputId": "59a09fb1-2c0e-40e2-acb3-d8b818e88143"
      },
      "execution_count": 29,
      "outputs": [
        {
          "output_type": "stream",
          "name": "stdout",
          "text": [
            "                  Source                                             Author  \\\n",
            "0             Snopes.com                                   Aleksandra Wrona   \n",
            "1             Snopes.com                                   Aleksandra Wrona   \n",
            "2    Yahoo Entertainment   editorial-team@simplywallst.com (Simply Wall St)   \n",
            "3              The Punch                                        Dennis Naku   \n",
            "4     Globalsecurity.org                                          John Pike   \n",
            "5          GlobeNewswire                      Introspective Market Research   \n",
            "6       Freerepublic.com                                            YouTube   \n",
            "7  Thefreedictionary.com                                                NaN   \n",
            "8               Plos.org  Md. Tariqul Islam Imran, Chitra Lekha Karmaker...   \n",
            "9          Khabarhub.com                                          Khabarhub   \n",
            "\n",
            "                                               Title  \\\n",
            "0  The Truth Behind Allegations Louis Vuitton Bur...   \n",
            "1    No Evidence Louis Vuitton Burns Unsold Handbags   \n",
            "2  Promising Penny Stocks To Consider In January ...   \n",
            "3  Onne Customs command generates N634bn revenue ...   \n",
            "4                               YEAR END REVIEW 2024   \n",
            "5  Heat Pump Market Projected To Reach USD 147.29...   \n",
            "6  The Forgotten Foundational Document: The Artic...   \n",
            "7                                   The Song Dynasty   \n",
            "8  Modeling the supply chain sustainability imper...   \n",
            "9  Smuggling up in absence of uniformed customs e...   \n",
            "\n",
            "                                         Description  \\\n",
            "0  Reports allege the company burns unsold items,...   \n",
            "1  The company was rumored to destroy its unsold ...   \n",
            "2  As 2024 draws to a close, global markets have ...   \n",
            "3  The Nigerian Customs Service, Area 2 Command, ...   \n",
            "4  2024 witnessed some path-breaking achievements...   \n",
            "5  Heat Pump Market size was valued at USD 64.02 ...   \n",
            "6  The Articles of association were passed on Oct...   \n",
            "7  The first government in history to issue paper...   \n",
            "8  The resilience of established business strateg...   \n",
            "9  PARSA: Smuggling has continued to rise in lack...   \n",
            "\n",
            "                                             Content          Published At  \\\n",
            "0  Why is there not a rating on this post? There'...  2024-12-24T03:00:00Z   \n",
            "1  Why is there not a rating on this post? There'...  2024-12-20T03:00:00Z   \n",
            "2  As 2024 draws to a close, global markets have ...  2025-01-03T02:07:34Z   \n",
            "3  The Nigerian Customs Service, Area 2 Command, ...  2025-01-01T00:04:44Z   \n",
            "4  India - Press Information Bureau\\r\\nMinistry o...  2024-12-27T06:13:26Z   \n",
            "5  United Kingdom, Birmingham, Dec. 23, 2024 (GLO...  2024-12-23T11:52:00Z   \n",
            "6  Skip to comments.\\r\\nThe Forgotten Foundationa...  2024-12-30T13:52:48Z   \n",
            "7  The Song dynasty (Chinese: 宋朝; pinyin: Sòng ch...  2024-12-24T05:00:00Z   \n",
            "8  Abstract\\r\\nThe resilience of established busi...  2024-12-31T14:00:00Z   \n",
            "9  PARSA: Smuggling has continued to rise in lack...  2024-12-11T05:45:40Z   \n",
            "\n",
            "                                                 URL  \n",
            "0  https://www.snopes.com//news/2024/12/23/louis-...  \n",
            "1  https://www.snopes.com//news/2024/12/20/louis-...  \n",
            "2  https://finance.yahoo.com/news/promising-penny...  \n",
            "3  https://punchng.com/onne-customs-command-gener...  \n",
            "4  https://www.globalsecurity.org/wmd/library/new...  \n",
            "5  https://www.globenewswire.com/news-release/202...  \n",
            "6  https://freerepublic.com/focus/f-chat/4287116/...  \n",
            "7  https://encyclopedia.thefreedictionary.com/Son...  \n",
            "8  https://journals.plos.org/plosone/article?id=1...  \n",
            "9      https://english.khabarhub.com/2024/11/418596/  \n"
          ]
        }
      ]
    },
    {
      "cell_type": "code",
      "source": [
        "import requests\n",
        "import pandas as pd\n",
        "from datetime import datetime\n",
        "\n",
        "# Function to fetch news data\n",
        "def fetch_news(api_url, query_params):\n",
        "    try:\n",
        "        response = requests.get(api_url, params=query_params)\n",
        "        response.raise_for_status()\n",
        "        return response.json()\n",
        "    except Exception as e:\n",
        "        print(f\"Error fetching news: {e}\")\n",
        "        return None\n",
        "\n",
        "# Function to extract risk constraints from article content\n",
        "def extract_risk_constraints(article_content):\n",
        "    risk_keywords = [\n",
        "        \"logistical\", \"environmental\", \"market\", \"social\", \"regulatory\", \"economic\", \"ethical\", \"geopolitical\",\n",
        "        \"customs delays\", \"government regulations\", \"compliance\", \"supply chain disruptions\",\n",
        "        \"changing consumer preferences\", \"global competition\", \"rising labor costs\", \"weather\",\n",
        "        \"lack of transparency\", \"cultural appropriation\", \"waste overflow\", \"fast fashion frenzy\"\n",
        "    ]\n",
        "    risks_found = [keyword for keyword in risk_keywords if keyword.lower() in article_content.lower()]\n",
        "    return risks_found\n",
        "\n",
        "# Fetch news data\n",
        "news_api_url = \"https://newsapi.org/v2/everything\"\n",
        "query_params = {\n",
        "    \"q\": \"export and import the clothes\",\n",
        "    \"from\": (datetime.now() - pd.Timedelta(days=30)).strftime('%Y-%m-%d'),\n",
        "    \"sortBy\": \"relevance\",\n",
        "    \"apiKey\": \"6d1fda2210ea41c69edf6a9ce33f4b13\"\n",
        "}\n",
        "\n",
        "news_data = fetch_news(news_api_url, query_params)\n",
        "\n",
        "# Process news data and save to CSV\n",
        "if news_data and news_data['totalResults'] > 0:\n",
        "    articles = news_data['articles']\n",
        "    processed_data = []\n",
        "\n",
        "    for article in articles:\n",
        "        title = article.get(\"title\", \"N/A\")\n",
        "        description = article.get(\"description\", \"N/A\")\n",
        "        content = article.get(\"content\", \"N/A\")\n",
        "        published_at = article.get(\"publishedAt\", \"N/A\")\n",
        "        source = article.get(\"source\", {}).get(\"name\", \"N/A\")\n",
        "\n",
        "        # Extract risks from the article content\n",
        "        risks = extract_risk_constraints(content)\n",
        "\n",
        "        # Add article details to processed data\n",
        "        processed_data.append({\n",
        "            \"Title\": title,\n",
        "            \"Description\": description,\n",
        "            \"Content\": content,\n",
        "            \"Published At\": published_at,\n",
        "            \"Source\": source,\n",
        "            \"Identified Risks\": \", \".join(risks)\n",
        "        })\n",
        "\n",
        "    # Save processed data to a CSV file\n",
        "    csv_file = \"export_import_clothes_risks.csv\"\n",
        "    df = pd.DataFrame(processed_data)\n",
        "    df.to_csv(csv_file, index=False)\n",
        "    print(f\"Data saved to {csv_file} with {len(df)} articles.\")\n",
        "else:\n",
        "    print(\"No articles found. Try adjusting the query.\")\n"
      ],
      "metadata": {
        "colab": {
          "base_uri": "https://localhost:8080/"
        },
        "id": "P2yFfT742HiK",
        "outputId": "5d3695a3-3e43-41cf-bb02-79c4e292bafa"
      },
      "execution_count": 30,
      "outputs": [
        {
          "output_type": "stream",
          "name": "stdout",
          "text": [
            "Data saved to export_import_clothes_risks.csv with 10 articles.\n"
          ]
        }
      ]
    },
    {
      "cell_type": "code",
      "source": [
        "# Aggregating the news data into a structured format (DataFrame)\n",
        "def aggregate_data(news_data):\n",
        "    try:\n",
        "        structured_data = []\n",
        "        for article in news_data['articles']:\n",
        "            structured_data.append({\n",
        "                \"source\": article['source']['name'],\n",
        "                \"title\": article['title'],\n",
        "                \"description\": article['description'],\n",
        "                \"content\": article['content'],\n",
        "                \"published_at\": article['publishedAt']\n",
        "            })\n",
        "        return pd.DataFrame(structured_data)\n",
        "    except Exception as e:\n",
        "        print(f\"Error structuring data: {e}\")\n",
        "        return None\n",
        "\n",
        "# Aggregate data into structured format\n",
        "structured_data = aggregate_data(news_data)\n",
        "\n",
        "# Display the first few rows of the structured data\n",
        "if structured_data is not None:\n",
        "    print(structured_data.head())\n",
        "else:\n",
        "    print(\"Failed to structure data.\")"
      ],
      "metadata": {
        "colab": {
          "base_uri": "https://localhost:8080/"
        },
        "id": "1seLk71CZT9B",
        "outputId": "5b90e54f-637e-43e9-a97d-9975b529d7e4"
      },
      "execution_count": 32,
      "outputs": [
        {
          "output_type": "stream",
          "name": "stdout",
          "text": [
            "                source                                              title  \\\n",
            "0           Snopes.com  The Truth Behind Allegations Louis Vuitton Bur...   \n",
            "1           Snopes.com    No Evidence Louis Vuitton Burns Unsold Handbags   \n",
            "2  Yahoo Entertainment  Promising Penny Stocks To Consider In January ...   \n",
            "3            The Punch  Onne Customs command generates N634bn revenue ...   \n",
            "4   Globalsecurity.org                               YEAR END REVIEW 2024   \n",
            "\n",
            "                                         description  \\\n",
            "0  Reports allege the company burns unsold items,...   \n",
            "1  The company was rumored to destroy its unsold ...   \n",
            "2  As 2024 draws to a close, global markets have ...   \n",
            "3  The Nigerian Customs Service, Area 2 Command, ...   \n",
            "4  2024 witnessed some path-breaking achievements...   \n",
            "\n",
            "                                             content          published_at  \n",
            "0  Why is there not a rating on this post? There'...  2024-12-24T03:00:00Z  \n",
            "1  Why is there not a rating on this post? There'...  2024-12-20T03:00:00Z  \n",
            "2  As 2024 draws to a close, global markets have ...  2025-01-03T02:07:34Z  \n",
            "3  The Nigerian Customs Service, Area 2 Command, ...  2025-01-01T00:04:44Z  \n",
            "4  India - Press Information Bureau\\r\\nMinistry o...  2024-12-27T06:13:26Z  \n"
          ]
        }
      ]
    },
    {
      "cell_type": "code",
      "source": [],
      "metadata": {
        "id": "98EmYMM6Zqmp"
      },
      "execution_count": 11,
      "outputs": []
    }
  ]
}